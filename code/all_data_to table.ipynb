{
 "cells": [
  {
   "cell_type": "code",
   "execution_count": null,
   "id": "played-compression",
   "metadata": {},
   "outputs": [],
   "source": [
    "import os \n",
    "import pandas as pd\n",
    "import numpy as np \n",
    "import json\n",
    "import pymongo"
   ]
  },
  {
   "cell_type": "code",
   "execution_count": null,
   "id": "periodic-couple",
   "metadata": {},
   "outputs": [],
   "source": [
    "path = \"../data\"\n",
    "os.chdir(path)\n",
    "files = os.listdir()\n"
   ]
  },
  {
   "cell_type": "code",
   "execution_count": null,
   "id": "pending-functionality",
   "metadata": {},
   "outputs": [],
   "source": [
    "for file in files:\n",
    "    with open(file) as f:\n",
    "        try:\n",
    "            data = json.loads(f.read(), encoding='utf-8')\n",
    "        except Exception as e:\n",
    "            print(\"error in file:\",file)\n",
    "            pass\n"
   ]
  },
  {
   "cell_type": "code",
   "execution_count": null,
   "id": "hindu-ireland",
   "metadata": {},
   "outputs": [],
   "source": [
    "for file in files:\n",
    "    with open(file) as f:\n",
    "        try:\n",
    "            data = json.loads(f.read(), encoding='utf-8')\n",
    "        except Exception as e:\n",
    "            print(\"error in file:\",file)\n",
    "            pass\n",
    "\n",
    "        final_list = []\n",
    "        for i in range (len(data[\"entry\"])):\n",
    "            resource_dict = {}\n",
    "            temp_list = []\n",
    "            if data[\"entry\"][i][\"resource\"][\"resourceType\"] == \"patient\":\n",
    "                resource_dict[\"resource_type\"] = data[\"entry\"][i][\"resource\"][\"resourceType\"]\n",
    "                resource_dict[\"id\"] = data[\"entry\"][i][\"resource\"][\"id\"]\n",
    "                try:\n",
    "                    resource_dict[\"identifier\"] = data[\"entry\"][i][\"resource\"][\"identifier\"]\n",
    "            #         print(identifier)\n",
    "                except:\n",
    "                    pass\n",
    "                try:\n",
    "                    resource_dict[\"active\"] = data[\"entry\"][i][\"resource\"][\"active\"]\n",
    "#                     print(\"active:\",active)\n",
    "                except Exception as e:\n",
    "            #             print(\"error:\",e)\n",
    "                    pass\n",
    "                try:\n",
    "                    resource_dict[\"telecom\"] = data[\"entry\"][i][\"resource\"][\"telecom\"]\n",
    "                except:\n",
    "                    pass\n",
    "                try:\n",
    "                    resource_dict[\"name\"] = data[\"entry\"][i][\"resource\"][\"name\"][0][\"given\"]\n",
    "                except:\n",
    "                    pass\n",
    "                try:\n",
    "                    resource_dict[\"gender\"] = data[\"entry\"][i][\"resource\"][\"gender\"]\n",
    "                except:\n",
    "                    pass\n",
    "                try:\n",
    "                    resource_dict[\"birthDate\"] = data[\"entry\"][i][\"resource\"][\"birthDate\"]\n",
    "                except:\n",
    "                    pass\n",
    "                try:\n",
    "                    resource_dict[\"deceasedBoolean\"] = data[\"entry\"][i][\"resource\"][\"deceasedBoolean\"]\n",
    "                except Exception as e:\n",
    "                    pass\n",
    "                try:\n",
    "                    resource_dict[\"deceasedDateTime\"] = data[\"entry\"][i][\"resource\"][\"deceasedDateTime\"]\n",
    "                except Exception as e:\n",
    "                    pass\n",
    "                try:\n",
    "                    resource_dict[\"address\"] = data[\"entry\"][i][\"resource\"][\"address\"][0][\"line\"] # + data[\"entry\"][i][\"resource\"][\"address\"][0][\"city\"]\n",
    "                    address.append(data[\"entry\"][i][\"resource\"][\"address\"][0][\"city\"])\n",
    "                    address.append(data[\"entry\"][i][\"resource\"][\"address\"][0][\"state\"])\n",
    "                    address.append(data[\"entry\"][i][\"resource\"][\"address\"][0][\"country\"])\n",
    "                    resource_dict[\"address\"] = \",\".join(address)\n",
    "#                     print(address)\n",
    "                except:\n",
    "            #         resource_dict[\"address\"] = data[\"entry\"][i][\"resource\"][\"address\"][0][\"line\"]\n",
    "                    pass\n",
    "                try:    \n",
    "                    resource_dict[\"organization\"] = data[\"entry\"][i][\"resource\"][\"organization\"]\n",
    "                except:\n",
    "                    pass\n",
    "                try:    \n",
    "                    resource_dict[\"period\"] = data[\"entry\"][i][\"resource\"][\"period\"]\n",
    "#                     print(period)\n",
    "                except:\n",
    "                    pass\n",
    "                try:    \n",
    "                    resource_dict[\"communication\"] = data[\"entry\"][i][\"resource\"][\"communication\"][0][\"language\"][\"coding\"][0][\"display\"]\n",
    "#                     print(communication)\n",
    "                except:\n",
    "                    pass\n",
    "                try:    \n",
    "                    resource_dict[\"language\"] = data[\"entry\"][i][\"resource\"][\"communication\"][0][\"language\"][\"coding\"][0][\"display\"]\n",
    "#                     print(language)\n",
    "                except:\n",
    "                    pass   \n",
    "                try:    \n",
    "                    resource_dict[\"preferred\"] = data[\"entry\"][i][\"resource\"][\"communication\"][0][\"language\"][\"coding\"][0][\"display\"]\n",
    "#                     print(preferred)\n",
    "                except:\n",
    "                    pass \n",
    "                final_list.append(resource_dict)\n",
    "                i+=1\n",
    "\n"
   ]
  },
  {
   "cell_type": "code",
   "execution_count": null,
   "id": "level-charleston",
   "metadata": {},
   "outputs": [],
   "source": [
    "final_list"
   ]
  },
  {
   "cell_type": "markdown",
   "id": "christian-soldier",
   "metadata": {},
   "source": [
    "## Tabular formation( dataframes)"
   ]
  },
  {
   "cell_type": "code",
   "execution_count": null,
   "id": "aerial-grounds",
   "metadata": {},
   "outputs": [],
   "source": [
    "df = pd.DataFrame(final_list, columns =[\"resourceType\",\"id\",\"identifier\",\"active\",\n",
    "\"telecom\",\"name\",\"gender\", \"birthDate\", \"deceasedBoolean\",\"deceasedDateTime\" ,\"address\" , \n",
    " \"organization\",\"period\",\"maritalStatus\",\"communication\" ])"
   ]
  },
  {
   "cell_type": "code",
   "execution_count": null,
   "id": "loose-egyptian",
   "metadata": {},
   "outputs": [],
   "source": [
    "df"
   ]
  }
 ],
 "metadata": {
  "kernelspec": {
   "display_name": "Python 3",
   "language": "python",
   "name": "python3"
  },
  "language_info": {
   "codemirror_mode": {
    "name": "ipython",
    "version": 3
   },
   "file_extension": ".py",
   "mimetype": "text/x-python",
   "name": "python",
   "nbconvert_exporter": "python",
   "pygments_lexer": "ipython3",
   "version": "3.8.6rc1"
  }
 },
 "nbformat": 4,
 "nbformat_minor": 5
}
