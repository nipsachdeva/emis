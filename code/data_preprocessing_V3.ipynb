{
 "cells": [
  {
   "cell_type": "code",
   "execution_count": 2,
   "id": "played-compression",
   "metadata": {},
   "outputs": [],
   "source": [
    "import os \n",
    "import pandas as pd\n",
    "import numpy as np \n",
    "import json\n",
    "import pymongo"
   ]
  },
  {
   "cell_type": "code",
   "execution_count": 3,
   "id": "periodic-couple",
   "metadata": {},
   "outputs": [],
   "source": [
    "# files = os.listdir()\n",
    "# files"
   ]
  },
  {
   "cell_type": "code",
   "execution_count": 81,
   "id": "voluntary-torture",
   "metadata": {
    "scrolled": false
   },
   "outputs": [
    {
     "name": "stdout",
     "output_type": "stream",
     "text": [
      "T:\\Uni Of Bristol\\careers\\technical_tests\\exa-data-eng-assessment-main\\exa-data-eng-assessment-main\\emis\\code\\data\\Deena887_Fahey393_7c4e1f8e-29e4-f88f-095a-aa6a9f55e6de.json\n"
     ]
    }
   ],
   "source": [
    "# for file in files:\n",
    "file = r\"T:\\Uni Of Bristol\\careers\\technical_tests\\exa-data-eng-assessment-main\\exa-data-eng-assessment-main\\emis\\code\\data\\Deena887_Fahey393_7c4e1f8e-29e4-f88f-095a-aa6a9f55e6de.json\"\n",
    "# df = pd.read_json(file)\n",
    "print(file)\n",
    "with open(file) as f:\n",
    "    \n",
    "    data = json.loads(f.read())\n",
    "#     print(data[0]['text'])\n",
    "# data"
   ]
  },
  {
   "cell_type": "code",
   "execution_count": 82,
   "id": "respective-olympus",
   "metadata": {},
   "outputs": [],
   "source": [
    "# len(data[\"entry\"][])"
   ]
  },
  {
   "cell_type": "code",
   "execution_count": 83,
   "id": "toxic-oracle",
   "metadata": {},
   "outputs": [],
   "source": [
    "# data[\"entry\"][0][\"resource\"]"
   ]
  },
  {
   "cell_type": "code",
   "execution_count": 84,
   "id": "manual-athletics",
   "metadata": {},
   "outputs": [
    {
     "data": {
      "text/plain": [
       "6"
      ]
     },
     "execution_count": 84,
     "metadata": {},
     "output_type": "execute_result"
    }
   ],
   "source": [
    "length = int(len(data[\"resourceType\"]))\n",
    "length"
   ]
  },
  {
   "cell_type": "code",
   "execution_count": 90,
   "id": "continuous-clothing",
   "metadata": {},
   "outputs": [
    {
     "name": "stdout",
     "output_type": "stream",
     "text": [
      "{'active': False}\n"
     ]
    }
   ],
   "source": [
    "\n",
    "for i in range (len(data[\"entry\"])):\n",
    "    resource_dict = {}\n",
    "    temp_list = []\n",
    "    address= []\n",
    "#     name = []\n",
    "    identifier_l = []\n",
    "    identifier={\"Medical Record Number\":\"\",\n",
    "                \"Social Security Number\":\"\",\n",
    "                \"Driver's License\":\"\",\n",
    "                \"passport Number\":\"\"\n",
    "               }\n",
    "    if data[\"entry\"][i][\"resource\"][\"resourceType\"] == \"Patient\":\n",
    "        resource_dict[\"active\"] = data[\"entry\"][i][\"resource\"][\"multipleBirthBoolean\"]\n",
    "            \n",
    "#         try:\n",
    "#             if data[\"entry\"][i][\"resource\"][\"deceasedDateTime\"] != []:\n",
    "#                 resource_dict[\"active\"] = \"yes\"\n",
    "           \n",
    "\n",
    "#         except:\n",
    "#             resource_dict[\"active\"] = \"No\"\n",
    "\n",
    "            \n",
    "#         print(data[\"entry\"][i][\"resource\"])\n",
    "#         resource_dict[\"active\"] = data[\"entry\"][i][\"resource\"][\"multipleBirthBoolean\"]\n",
    "#         identifier[\"Medical Record Number\"] = data[\"entry\"][i][\"resource\"][\"identifier\"][1][\"type\"][\"coding\"][0][\"display\"]\n",
    "#         identifier[\"passport Number\"] = data[\"entry\"][i][\"resource\"][\"identifier\"][3][\"value\"]#[\"value\"]\n",
    "        \n",
    "#         identifier[\"Social Security Number\"] = data[\"entry\"][i][\"resource\"][\"identifier\"][2][\"type\"][\"coding\"][0][\"display\"]\n",
    "#         identifier[\"Driver's License\"] = data[\"entry\"][i][\"resource\"][\"identifier\"][3][\"type\"][\"coding\"][0][\"display\"]\n",
    "#         identifier_l.append(identifier)\n",
    "#         resource_dict = identifier_l \n",
    "        print(resource_dict)"
   ]
  },
  {
   "cell_type": "code",
   "execution_count": 100,
   "id": "hindu-ireland",
   "metadata": {},
   "outputs": [],
   "source": [
    "\n",
    "final_list = []\n",
    "for i in range (len(data[\"entry\"])):\n",
    "    resource_dict = {}\n",
    "    temp_list = []\n",
    "\n",
    "\n",
    "\n",
    "    if data[\"entry\"][i][\"resource\"][\"resourceType\"] == \"Patient\":\n",
    "\n",
    "        resource_dict[\"resource_type\"] = data[\"entry\"][i][\"resource\"][\"resourceType\"]\n",
    "        resource_dict[\"id\"] = data[\"entry\"][i][\"resource\"][\"id\"]\n",
    "        try:\n",
    "            # resource_dict[\"identifier\"] = data[\"entry\"][i][\"resource\"][\"identifier\"]\n",
    "            identifier_dict[\"Medical Record Number\"] = data[\"entry\"][i][\"resource\"][\"identifier\"][1][\"value\"]\n",
    "            identifier_dict[\"Social Security Number\"] = data[\"entry\"][i][\"resource\"][\"identifier\"][2][\"value\"]\n",
    "            identifier_dict[\"Driver's License\"] = data[\"entry\"][i][\"resource\"][\"identifier\"][3][\"value\"]\n",
    "            identifier_dict[\"Passport Number\"] = data[\"entry\"][i][\"resource\"][\"identifier\"][4][\"value\"]\n",
    "            identifier.append(identifier_dict)\n",
    "            resource_dict[\"identifier\"] = identifier \n",
    "    #         print(identifier)\n",
    "        except:\n",
    "            pass\n",
    "        try:\n",
    "            if data[\"entry\"][i][\"resource\"][\"deceasedDateTime\"] != []:\n",
    "                resource_dict[\"active\"] = \"yes\"\n",
    "\n",
    "#                     print(\"active:\",active)\n",
    "        except Exception as e:\n",
    "\n",
    "            resource_dict[\"active\"] = \"No\"\n",
    "    #             print(\"error:\",e)\n",
    "\n",
    "        try:\n",
    "            resource_dict[\"telecom\"] = data[\"entry\"][i][\"resource\"][\"telecom\"][0][\"value\"]\n",
    "        except:\n",
    "            pass\n",
    "        try:\n",
    "\n",
    "            name = data[\"entry\"][i][\"resource\"][\"name\"][0][\"given\"][0]\n",
    "            family = data[\"entry\"][i][\"resource\"][\"name\"][0][\"family\"]\n",
    "\n",
    "            resource_dict[\"name\"] = name + \" \"+family\n",
    "        except:\n",
    "            pass\n",
    "        try:\n",
    "            resource_dict[\"gender\"] = data[\"entry\"][i][\"resource\"][\"gender\"]\n",
    "        except:\n",
    "            pass\n",
    "        try:\n",
    "            resource_dict[\"birthDate\"] = data[\"entry\"][i][\"resource\"][\"birthDate\"]\n",
    "        except:\n",
    "            pass\n",
    "        try:\n",
    "            resource_dict[\"deceasedBoolean\"] = data[\"entry\"][i][\"resource\"][\"deceasedBoolean\"]\n",
    "        except Exception as e:\n",
    "            pass\n",
    "        try:\n",
    "            resource_dict[\"multipleBirthBoolean\"] = data[\"entry\"][i][\"resource\"][\"multipleBirthBoolean\"]\n",
    "        except:\n",
    "            pass\n",
    "        try:\n",
    "            resource_dict[\"deceasedDateTime\"] = data[\"entry\"][i][\"resource\"][\"deceasedDateTime\"]\n",
    "        except Exception as e:\n",
    "            pass\n",
    "        try:\n",
    "            address = data[\"entry\"][i][\"resource\"][\"address\"][0][\"line\"] # + data[\"entry\"][i][\"resource\"][\"address\"][0][\"city\"]\n",
    "            address.append(data[\"entry\"][i][\"resource\"][\"address\"][0][\"city\"])\n",
    "            address.append(data[\"entry\"][i][\"resource\"][\"address\"][0][\"state\"])\n",
    "            address.append(data[\"entry\"][i][\"resource\"][\"address\"][0][\"country\"])\n",
    "            address = ','.join(map(str, address))\n",
    "            resource_dict[\"address\"] = address\n",
    "#                     print(address)\n",
    "        except Exception as e:\n",
    "    #         resource_dict[\"address\"] = data[\"entry\"][i][\"resource\"][\"address\"][0][\"line\"]\n",
    "            pass\n",
    "\n",
    "        try:\n",
    "            resource_dict[\"maritalStatus\"] = data[\"entry\"][i][\"resource\"][\"maritalStatus\"][\"coding\"][0][\"display\"]\n",
    "        except:\n",
    "            pass\n",
    "        try:    \n",
    "            resource_dict[\"organization\"] = data[\"entry\"][i][\"resource\"][\"organization\"]\n",
    "        except:\n",
    "            pass\n",
    "        try:    \n",
    "            resource_dict[\"period\"] = data[\"entry\"][i][\"resource\"][\"period\"]\n",
    "#                     print(period)\n",
    "        except:\n",
    "            pass\n",
    "        try:    \n",
    "            resource_dict[\"communication\"] = data[\"entry\"][i][\"resource\"][\"communication\"][0][\"language\"][\"coding\"][0][\"display\"]\n",
    "#                     print(communication)\n",
    "        except:\n",
    "            pass\n",
    "        try:    \n",
    "            resource_dict[\"language\"] = data[\"entry\"][i][\"resource\"][\"communication\"][0][\"language\"][\"coding\"][0][\"display\"]\n",
    "#                     print(language)\n",
    "        except:\n",
    "            pass   \n",
    "        try:    \n",
    "            resource_dict[\"preferred\"] = data[\"entry\"][i][\"resource\"][\"communication\"][0][\"language\"][\"coding\"][0][\"display\"]\n",
    "#                     print(preferred)\n",
    "        except:\n",
    "            pass \n",
    "\n",
    "        final_list.append(resource_dict)\n",
    "#                 print(final_list)\n",
    "        i+=1\n",
    "\n",
    "\n",
    "\n"
   ]
  },
  {
   "cell_type": "code",
   "execution_count": 91,
   "id": "consecutive-hurricane",
   "metadata": {},
   "outputs": [
    {
     "name": "stdout",
     "output_type": "stream",
     "text": [
      "{'resource_type': 'Provenance', 'id': '9cb02794-8917-82ae-340d-177aa8d440c7', 'Medical Record Number': 'Social Security Number', 'Social Security Number': \"Driver's License\", \"Driver's License\": [{'use': 'official', 'system': 'https://github.com/synthetichealth/synthea', 'value': '4dbc90e0-b7b2-482c-24af-1405654e59ae'}], 'telecom': '555-152-6034'}\n"
     ]
    }
   ],
   "source": [
    "for i in range (1):\n",
    "#     try:\n",
    "#         resource_dict[\"Driver's License\"] = data[\"entry\"][1][\"resource\"][\"identifier\"]\n",
    "\n",
    "#     except Exception as e:\n",
    "#         print(e)\n",
    "        \n",
    "    try:\n",
    "        resource_dict[\"telecom\"] = data[\"entry\"][i][\"resource\"][\"telecom\"][0][\"value\"]\n",
    "        print(resource_dict)\n",
    "    except:\n",
    "        pass"
   ]
  },
  {
   "cell_type": "code",
   "execution_count": 101,
   "id": "level-charleston",
   "metadata": {},
   "outputs": [
    {
     "data": {
      "text/plain": [
       "[{'resource_type': 'Patient',\n",
       "  'id': '7c4e1f8e-29e4-f88f-095a-aa6a9f55e6de',\n",
       "  'active': 'yes',\n",
       "  'telecom': '555-501-4799',\n",
       "  'name': 'Deena887 Fahey393',\n",
       "  'gender': 'female',\n",
       "  'birthDate': '1937-10-21',\n",
       "  'multipleBirthBoolean': False,\n",
       "  'deceasedDateTime': '2004-09-15T09:22:00+01:00',\n",
       "  'address': '1073 Mertz Track,Fall River,MA,US,Fall River,MA,US',\n",
       "  'maritalStatus': 'M',\n",
       "  'communication': 'English',\n",
       "  'language': 'English',\n",
       "  'preferred': 'English'}]"
      ]
     },
     "execution_count": 101,
     "metadata": {},
     "output_type": "execute_result"
    }
   ],
   "source": [
    "final_list"
   ]
  },
  {
   "cell_type": "markdown",
   "id": "christian-soldier",
   "metadata": {},
   "source": [
    "## Tabular formation( dataframes)"
   ]
  },
  {
   "cell_type": "code",
   "execution_count": 122,
   "id": "aerial-grounds",
   "metadata": {},
   "outputs": [],
   "source": [
    "df = pd.DataFrame(final_list, columns =[\"resourceType\",\"id\",\"identifier\",\"active\",\n",
    "\"telecom\",\"name\",\"gender\", \"birthDate\", \"deceasedBoolean\",\"deceasedDateTime\" ,\"address\" , \n",
    " \"organization\",\"period\",\"maritalStatus\",\"communication\" ])"
   ]
  },
  {
   "cell_type": "code",
   "execution_count": 125,
   "id": "loose-egyptian",
   "metadata": {},
   "outputs": [
    {
     "name": "stdout",
     "output_type": "stream",
     "text": [
      "<class 'pandas.core.frame.DataFrame'>\n"
     ]
    },
    {
     "data": {
      "text/html": [
       "<div>\n",
       "<style scoped>\n",
       "    .dataframe tbody tr th:only-of-type {\n",
       "        vertical-align: middle;\n",
       "    }\n",
       "\n",
       "    .dataframe tbody tr th {\n",
       "        vertical-align: top;\n",
       "    }\n",
       "\n",
       "    .dataframe thead th {\n",
       "        text-align: right;\n",
       "    }\n",
       "</style>\n",
       "<table border=\"1\" class=\"dataframe\">\n",
       "  <thead>\n",
       "    <tr style=\"text-align: right;\">\n",
       "      <th></th>\n",
       "      <th>resourceType</th>\n",
       "      <th>id</th>\n",
       "      <th>identifier</th>\n",
       "      <th>active</th>\n",
       "      <th>telecom</th>\n",
       "      <th>name</th>\n",
       "      <th>gender</th>\n",
       "      <th>birthDate</th>\n",
       "      <th>deceasedBoolean</th>\n",
       "      <th>deceasedDateTime</th>\n",
       "      <th>address</th>\n",
       "      <th>organization</th>\n",
       "      <th>period</th>\n",
       "      <th>maritalStatus</th>\n",
       "      <th>communication</th>\n",
       "    </tr>\n",
       "  </thead>\n",
       "  <tbody>\n",
       "    <tr>\n",
       "      <th>0</th>\n",
       "      <td>NaN</td>\n",
       "      <td>7c4e1f8e-29e4-f88f-095a-aa6a9f55e6de</td>\n",
       "      <td>NaN</td>\n",
       "      <td>yes</td>\n",
       "      <td>555-501-4799</td>\n",
       "      <td>Deena887 Fahey393</td>\n",
       "      <td>female</td>\n",
       "      <td>1937-10-21</td>\n",
       "      <td>NaN</td>\n",
       "      <td>2004-09-15T09:22:00+01:00</td>\n",
       "      <td>1073 Mertz Track,Fall River,MA,US,Fall River,M...</td>\n",
       "      <td>NaN</td>\n",
       "      <td>NaN</td>\n",
       "      <td>M</td>\n",
       "      <td>English</td>\n",
       "    </tr>\n",
       "  </tbody>\n",
       "</table>\n",
       "</div>"
      ],
      "text/plain": [
       "   resourceType                                    id  identifier active  \\\n",
       "0           NaN  7c4e1f8e-29e4-f88f-095a-aa6a9f55e6de         NaN    yes   \n",
       "\n",
       "        telecom               name  gender   birthDate  deceasedBoolean  \\\n",
       "0  555-501-4799  Deena887 Fahey393  female  1937-10-21              NaN   \n",
       "\n",
       "            deceasedDateTime  \\\n",
       "0  2004-09-15T09:22:00+01:00   \n",
       "\n",
       "                                             address  organization  period  \\\n",
       "0  1073 Mertz Track,Fall River,MA,US,Fall River,M...           NaN     NaN   \n",
       "\n",
       "  maritalStatus communication  \n",
       "0             M       English  "
      ]
     },
     "execution_count": 125,
     "metadata": {},
     "output_type": "execute_result"
    }
   ],
   "source": [
    "print(type(df))\n",
    "df"
   ]
  },
  {
   "cell_type": "code",
   "execution_count": 144,
   "id": "applicable-completion",
   "metadata": {},
   "outputs": [
    {
     "name": "stdout",
     "output_type": "stream",
     "text": [
      "<class 'str'>\n"
     ]
    }
   ],
   "source": [
    "out = df.to_dict()\n",
    "json_object = json.dumps(out, indent = 4) \n",
    "# out = df.to_json(orient = 'columns')\n",
    "# out = json.dumps(out)\n",
    "print(type(json_object))"
   ]
  },
  {
   "cell_type": "code",
   "execution_count": 146,
   "id": "critical-tender",
   "metadata": {},
   "outputs": [],
   "source": [
    "with open(\"sample.json\", \"w\") as outfile:\n",
    "    json.dump(out, outfile)"
   ]
  },
  {
   "cell_type": "code",
   "execution_count": 142,
   "id": "suited-graphic",
   "metadata": {},
   "outputs": [
    {
     "name": "stdout",
     "output_type": "stream",
     "text": [
      "<class 'dict'>\n"
     ]
    }
   ],
   "source": [
    "print(type(out))"
   ]
  },
  {
   "cell_type": "markdown",
   "id": "selected-indie",
   "metadata": {},
   "source": [
    "## Mongo DB"
   ]
  },
  {
   "cell_type": "code",
   "execution_count": 147,
   "id": "sixth-steering",
   "metadata": {},
   "outputs": [],
   "source": [
    "from pymongo import MongoClient\n",
    "\n",
    "# Create connection to MongoDB\n",
    "client = MongoClient('localhost', 27017)\n",
    "db = client['name_of_database']\n",
    "collection = db['name_of_collection']\n",
    "\n",
    "# Build a basic dictionary\n",
    "# d = {'website': 'www.carrefax.com', 'author': 'Daniel Hoadley', 'colour': 'purple'}\n",
    "\n",
    "# Insert the dictionary into Mongo\n",
    "# collection.insert(d)"
   ]
  },
  {
   "cell_type": "code",
   "execution_count": 148,
   "id": "decent-director",
   "metadata": {},
   "outputs": [],
   "source": [
    "myclient = pymongo.MongoClient(\"mongodb://localhost:27017/\")\n",
    "mydb = myclient[\"mydatabase\"]"
   ]
  },
  {
   "cell_type": "code",
   "execution_count": 149,
   "id": "absolute-indication",
   "metadata": {},
   "outputs": [],
   "source": [
    "mycol = mydb[\"resources\"]"
   ]
  },
  {
   "cell_type": "code",
   "execution_count": 150,
   "id": "posted-crest",
   "metadata": {},
   "outputs": [
    {
     "data": {
      "text/plain": [
       "{'resourceType': {'0': nan},\n",
       " 'id': {'0': '7c4e1f8e-29e4-f88f-095a-aa6a9f55e6de'},\n",
       " 'identifier': {'0': nan},\n",
       " 'active': {'0': 'yes'},\n",
       " 'telecom': {'0': '555-501-4799'},\n",
       " 'name': {'0': 'Deena887 Fahey393'},\n",
       " 'gender': {'0': 'female'},\n",
       " 'birthDate': {'0': '1937-10-21'},\n",
       " 'deceasedBoolean': {'0': nan},\n",
       " 'deceasedDateTime': {'0': '2004-09-15T09:22:00+01:00'},\n",
       " 'address': {'0': '1073 Mertz Track,Fall River,MA,US,Fall River,MA,US'},\n",
       " 'organization': {'0': nan},\n",
       " 'period': {'0': nan},\n",
       " 'maritalStatus': {'0': 'M'},\n",
       " 'communication': {'0': 'English'}}"
      ]
     },
     "execution_count": 150,
     "metadata": {},
     "output_type": "execute_result"
    }
   ],
   "source": [
    "file = \"sample.json\"\n",
    "\n",
    "with open(file) as f:\n",
    "    \n",
    "    data = json.loads(f.read())\n",
    "    \n",
    "data"
   ]
  },
  {
   "cell_type": "code",
   "execution_count": 151,
   "id": "stable-stock",
   "metadata": {},
   "outputs": [
    {
     "name": "stderr",
     "output_type": "stream",
     "text": [
      "<ipython-input-151-00f39f73cc38>:1: DeprecationWarning: insert is deprecated. Use insert_one or insert_many instead.\n",
      "  mycol.insert(data)\n"
     ]
    },
    {
     "data": {
      "text/plain": [
       "ObjectId('62154386c324f64334b753b4')"
      ]
     },
     "execution_count": 151,
     "metadata": {},
     "output_type": "execute_result"
    }
   ],
   "source": [
    "mycol.insert(data)"
   ]
  },
  {
   "cell_type": "code",
   "execution_count": null,
   "id": "caring-costs",
   "metadata": {},
   "outputs": [],
   "source": [
    "for y in mycol.find():\n",
    "    print(y) "
   ]
  },
  {
   "cell_type": "markdown",
   "id": "rapid-brook",
   "metadata": {},
   "source": [
    "### Tests"
   ]
  },
  {
   "cell_type": "code",
   "execution_count": null,
   "id": "medium-margin",
   "metadata": {},
   "outputs": [],
   "source": [
    "df_json = pd.read_json(file)"
   ]
  },
  {
   "cell_type": "code",
   "execution_count": null,
   "id": "increasing-blues",
   "metadata": {},
   "outputs": [],
   "source": [
    "df_json[\"entry\"][0][]\n"
   ]
  },
  {
   "cell_type": "code",
   "execution_count": null,
   "id": "indian-thickness",
   "metadata": {},
   "outputs": [],
   "source": [
    "for i in range(6):\n",
    "    print(df_json[\"entry\"][i][\"resource\"])\n",
    "    if df_json[\"entry\"][i][\"resource\"][\"resourceType\"] == \"Patient\":\n",
    "        df_json[\"entry\"][i][\"resource\"][\"id\"]\n",
    "        \n",
    "    "
   ]
  },
  {
   "cell_type": "markdown",
   "id": "middle-latin",
   "metadata": {},
   "source": [
    "### Mongo Functions"
   ]
  },
  {
   "cell_type": "code",
   "execution_count": null,
   "id": "alpha-subject",
   "metadata": {},
   "outputs": [],
   "source": [
    "def mondo_db_save(df):\n",
    "    out = df.to_dict()\n",
    "    file = \"./sample.json\"\n",
    "    with open(file, \"w\") as outfile:\n",
    "        json.dump(out, outfile)\n",
    "    myclient = pymongo.MongoClient(\"mongodb://localhost:27017/\")\n",
    "    emis_db = myclient[\"emis_database\"]\n",
    "    mycol = emis_db[\"resources\"]\n",
    "    file = \"sample.json\"\n",
    "    with open(file) as f:\n",
    "        data = json.loads(f.read())\n",
    "\n",
    "def db_search():\n",
    "    for y in mycol.find():\n",
    "        print(y) \n"
   ]
  }
 ],
 "metadata": {
  "kernelspec": {
   "display_name": "Python 3",
   "language": "python",
   "name": "python3"
  },
  "language_info": {
   "codemirror_mode": {
    "name": "ipython",
    "version": 3
   },
   "file_extension": ".py",
   "mimetype": "text/x-python",
   "name": "python",
   "nbconvert_exporter": "python",
   "pygments_lexer": "ipython3",
   "version": "3.8.6rc1"
  }
 },
 "nbformat": 4,
 "nbformat_minor": 5
}
